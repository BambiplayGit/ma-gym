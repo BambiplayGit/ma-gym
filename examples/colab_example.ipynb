{
  "nbformat": 4,
  "nbformat_minor": 0,
  "metadata": {
    "colab": {
      "provenance": []
    },
    "kernelspec": {
      "name": "python3",
      "display_name": "Python 3"
    },
    "language_info": {
      "name": "python"
    }
  },
  "cells": [
    {
      "cell_type": "markdown",
      "source": [
        "# **Dependency Setup**"
      ],
      "metadata": {
        "id": "7bic0d8YZt26"
      }
    },
    {
      "cell_type": "code",
      "execution_count": 18,
      "metadata": {
        "colab": {
          "base_uri": "https://localhost:8080/"
        },
        "id": "Mgxn1Fw6ZAs7",
        "outputId": "c08fcc0c-612d-444a-f184-d869b788e675"
      },
      "outputs": [
        {
          "output_type": "stream",
          "name": "stdout",
          "text": [
            "Looking in indexes: https://pypi.org/simple, https://us-python.pkg.dev/colab-wheels/public/simple/\n",
            "Requirement already satisfied: pip<=23.0.1 in /usr/local/lib/python3.10/dist-packages (23.0.1)\n",
            "\u001b[33mWARNING: Running pip as the 'root' user can result in broken permissions and conflicting behaviour with the system package manager. It is recommended to use a virtual environment instead: https://pip.pypa.io/warnings/venv\u001b[0m\u001b[33m\n",
            "\u001b[0mLooking in indexes: https://pypi.org/simple, https://us-python.pkg.dev/colab-wheels/public/simple/\n",
            "Requirement already satisfied: setuptools<=66 in /usr/local/lib/python3.10/dist-packages (66.0.0)\n",
            "\u001b[33mWARNING: Running pip as the 'root' user can result in broken permissions and conflicting behaviour with the system package manager. It is recommended to use a virtual environment instead: https://pip.pypa.io/warnings/venv\u001b[0m\u001b[33m\n",
            "\u001b[0mLooking in indexes: https://pypi.org/simple, https://us-python.pkg.dev/colab-wheels/public/simple/\n",
            "Requirement already satisfied: wheel<=0.38.4 in /usr/local/lib/python3.10/dist-packages (0.38.4)\n",
            "\u001b[33mWARNING: Running pip as the 'root' user can result in broken permissions and conflicting behaviour with the system package manager. It is recommended to use a virtual environment instead: https://pip.pypa.io/warnings/venv\u001b[0m\u001b[33m\n",
            "\u001b[0mLooking in indexes: https://pypi.org/simple, https://us-python.pkg.dev/colab-wheels/public/simple/\n",
            "Requirement already satisfied: ma-gym in /usr/local/lib/python3.10/dist-packages (0.0.13)\n",
            "Requirement already satisfied: scipy>=1.3.0 in /usr/local/lib/python3.10/dist-packages (from ma-gym) (1.10.1)\n",
            "Requirement already satisfied: pyglet<=1.5.27,>=1.4.0 in /usr/local/lib/python3.10/dist-packages (from ma-gym) (1.5.27)\n",
            "Requirement already satisfied: numpy>=1.16.4 in /usr/local/lib/python3.10/dist-packages (from ma-gym) (1.22.4)\n",
            "Requirement already satisfied: six>=1.16.0 in /usr/local/lib/python3.10/dist-packages (from ma-gym) (1.16.0)\n",
            "Requirement already satisfied: cloudpickle==2.0.0 in /usr/local/lib/python3.10/dist-packages (from ma-gym) (2.0.0)\n",
            "Requirement already satisfied: gym<=0.20.0,>=0.19.0 in /usr/local/lib/python3.10/dist-packages (from ma-gym) (0.20.0)\n",
            "Requirement already satisfied: pillow>=7.2.0 in /usr/local/lib/python3.10/dist-packages (from ma-gym) (8.4.0)\n",
            "\u001b[33mWARNING: Running pip as the 'root' user can result in broken permissions and conflicting behaviour with the system package manager. It is recommended to use a virtual environment instead: https://pip.pypa.io/warnings/venv\u001b[0m\u001b[33m\n",
            "\u001b[0m"
          ]
        }
      ],
      "source": [
        "!pip install -U 'pip<=23.0.1'\n",
        "!pip install -U 'setuptools<=66'\n",
        "!pip install -U 'wheel<=0.38.4'\n",
        "!pip install -U ma-gym"
      ]
    },
    {
      "cell_type": "markdown",
      "source": [
        "# **Demo Run:**"
      ],
      "metadata": {
        "id": "tl0aaZuMbAEF"
      }
    },
    {
      "cell_type": "code",
      "source": [
        "import gym\n",
        "\n",
        "env = gym.make('ma_gym:Switch2-v0')\n",
        "done_n = [False for _ in range(env.n_agents)]\n",
        "ep_reward = 0\n",
        "\n",
        "obs_n = env.reset()\n",
        "while not all(done_n):\n",
        "    obs_n, reward_n, done_n, info = env.step(env.action_space.sample())\n",
        "    ep_reward += sum(reward_n)\n",
        "env.close()\n",
        "print(f'Episode Return:{ep_reward:.2f}')"
      ],
      "metadata": {
        "colab": {
          "base_uri": "https://localhost:8080/"
        },
        "id": "mEQ9X0cQZtmV",
        "outputId": "84fae668-a2f9-495b-d95f-0e40a77d0f24"
      },
      "execution_count": 17,
      "outputs": [
        {
          "output_type": "stream",
          "name": "stdout",
          "text": [
            "Episode Return:-10.00\n"
          ]
        }
      ]
    }
  ]
}